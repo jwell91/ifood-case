{
 "cells": [
  {
   "cell_type": "markdown",
   "metadata": {
    "application/vnd.databricks.v1+cell": {
     "cellMetadata": {
      "byteLimit": 2048000,
      "rowLimit": 10000
     },
     "inputWidgets": {},
     "nuid": "a28c395b-7fd7-43b7-9d31-1e31f7973e54",
     "showTitle": false,
     "tableResultSettingsMap": {},
     "title": ""
    }
   },
   "source": [
    "Pergunta 1: Média de Valor Total por Mês\n",
    "A seguir, vamos responder à pergunta: \"Qual a média de valor total (total_amount) recebido em um mês considerando todos os yellow táxis da frota?\".\n",
    "\n",
    "Para isso, agrupamos os dados por ano e mês e aplicamos a função de agregação AVG() na coluna total_amount."
   ]
  },
  {
   "cell_type": "code",
   "execution_count": 0,
   "metadata": {
    "application/vnd.databricks.v1+cell": {
     "cellMetadata": {
      "byteLimit": 2048000,
      "implicitDf": true,
      "rowLimit": 10000
     },
     "inputWidgets": {},
     "nuid": "f7a19ce7-fb70-4e57-b467-743179c77b55",
     "showTitle": false,
     "tableResultSettingsMap": {},
     "title": ""
    }
   },
   "outputs": [
    {
     "output_type": "display_data",
     "data": {
      "text/html": [
       "<style scoped>\n",
       "  .table-result-container {\n",
       "    max-height: 300px;\n",
       "    overflow: auto;\n",
       "  }\n",
       "  table, th, td {\n",
       "    border: 1px solid black;\n",
       "    border-collapse: collapse;\n",
       "  }\n",
       "  th, td {\n",
       "    padding: 5px;\n",
       "  }\n",
       "  th {\n",
       "    text-align: left;\n",
       "  }\n",
       "</style><div class='table-result-container'><table class='table-result'><thead style='background-color: white'><tr><th>ano</th><th>mes</th><th>media_valor_total</th></tr></thead><tbody><tr><td>2001</td><td>1</td><td>56.276666666666664</td></tr><tr><td>2002</td><td>12</td><td>37.1875</td></tr><tr><td>2003</td><td>1</td><td>85.74</td></tr><tr><td>2008</td><td>12</td><td>44.316153846153846</td></tr><tr><td>2009</td><td>1</td><td>10.45</td></tr><tr><td>2014</td><td>11</td><td>52.38</td></tr><tr><td>2022</td><td>10</td><td>69.13545454545455</td></tr><tr><td>2022</td><td>12</td><td>26.3292</td></tr><tr><td>2023</td><td>1</td><td>27.4578427555988</td></tr><tr><td>2023</td><td>2</td><td>27.365620957331974</td></tr><tr><td>2023</td><td>3</td><td>28.284968319023605</td></tr><tr><td>2023</td><td>4</td><td>28.77978497243427</td></tr><tr><td>2023</td><td>5</td><td>29.449052426102384</td></tr><tr><td>2023</td><td>6</td><td>37.2316</td></tr><tr><td>2023</td><td>7</td><td>20.71777777777778</td></tr><tr><td>2023</td><td>8</td><td>25.68</td></tr><tr><td>2023</td><td>9</td><td>12.96</td></tr></tbody></table></div>"
      ]
     },
     "metadata": {
      "application/vnd.databricks.v1+output": {
       "addedWidgets": {},
       "aggData": [],
       "aggError": "",
       "aggOverflow": false,
       "aggSchema": [],
       "aggSeriesLimitReached": false,
       "aggType": "",
       "arguments": {},
       "columnCustomDisplayInfos": {},
       "data": [
        [
         2001,
         1,
         56.276666666666664
        ],
        [
         2002,
         12,
         37.1875
        ],
        [
         2003,
         1,
         85.74
        ],
        [
         2008,
         12,
         44.316153846153846
        ],
        [
         2009,
         1,
         10.45
        ],
        [
         2014,
         11,
         52.38
        ],
        [
         2022,
         10,
         69.13545454545455
        ],
        [
         2022,
         12,
         26.3292
        ],
        [
         2023,
         1,
         27.4578427555988
        ],
        [
         2023,
         2,
         27.365620957331974
        ],
        [
         2023,
         3,
         28.284968319023605
        ],
        [
         2023,
         4,
         28.77978497243427
        ],
        [
         2023,
         5,
         29.449052426102384
        ],
        [
         2023,
         6,
         37.2316
        ],
        [
         2023,
         7,
         20.71777777777778
        ],
        [
         2023,
         8,
         25.68
        ],
        [
         2023,
         9,
         12.96
        ]
       ],
       "datasetInfos": [],
       "dbfsResultPath": null,
       "isJsonSchema": true,
       "metadata": {},
       "overflow": false,
       "plotOptions": {
        "customPlotOptions": {},
        "displayType": "table",
        "pivotAggregation": null,
        "pivotColumns": null,
        "xColumns": null,
        "yColumns": null
       },
       "removedWidgets": [],
       "schema": [
        {
         "metadata": "{}",
         "name": "ano",
         "type": "\"integer\""
        },
        {
         "metadata": "{}",
         "name": "mes",
         "type": "\"integer\""
        },
        {
         "metadata": "{}",
         "name": "media_valor_total",
         "type": "\"double\""
        }
       ],
       "type": "table"
      }
     },
     "output_type": "display_data"
    }
   ],
   "source": [
    "%sql\n",
    "-- Pergunta 1: Qual a média de valor total (total_amount) recebido em um mês? \n",
    "SELECT\n",
    "  YEAR(pickup_datetime) AS ano,\n",
    "  MONTH(pickup_datetime) AS mes,\n",
    "  AVG(total_amount) AS media_valor_total\n",
    "FROM\n",
    "  ifood_challenge.yellow_taxi_trips\n",
    "GROUP BY\n",
    "  ano, mes\n",
    "ORDER BY\n",
    "  ano, mes;"
   ]
  },
  {
   "cell_type": "markdown",
   "metadata": {
    "application/vnd.databricks.v1+cell": {
     "cellMetadata": {
      "byteLimit": 2048000,
      "rowLimit": 10000
     },
     "inputWidgets": {},
     "nuid": "6b505dfc-afb3-49c2-b357-6ebd0af882a9",
     "showTitle": false,
     "tableResultSettingsMap": {},
     "title": ""
    }
   },
   "source": [
    "Análise do Resultado: A tabela acima mostra a média de faturamento bruto mensal da frota de táxis. É possível observar a variação no valor médio das corridas ao longo dos meses analisados, o que pode indicar tendências de mercado ou sazonalidade."
   ]
  },
  {
   "cell_type": "markdown",
   "metadata": {
    "application/vnd.databricks.v1+cell": {
     "cellMetadata": {
      "byteLimit": 2048000,
      "rowLimit": 10000
     },
     "inputWidgets": {},
     "nuid": "da48f3f5-d92e-4d9d-a685-64fa3310815c",
     "showTitle": false,
     "tableResultSettingsMap": {},
     "title": ""
    }
   },
   "source": [
    "Pergunta 2: Média de Passageiros por Hora em Maio\n",
    "Agora, vamos responder à pergunta: \"Qual a média de passageiros (passenger_count) por cada hora do dia que pegaram táxi no mês de maio considerando todos os táxis da frota?\".\n",
    "\n",
    "Nesta consulta, primeiro filtramos os dados para incluir apenas o mês de Maio de 2023. Em seguida, agrupamos por hora do dia para calcular a média de passageiros."
   ]
  },
  {
   "cell_type": "code",
   "execution_count": 0,
   "metadata": {
    "application/vnd.databricks.v1+cell": {
     "cellMetadata": {
      "byteLimit": 2048000,
      "implicitDf": true,
      "rowLimit": 10000
     },
     "inputWidgets": {},
     "nuid": "e03f7b10-0076-4894-9f75-2895ed1055a5",
     "showTitle": false,
     "tableResultSettingsMap": {},
     "title": ""
    }
   },
   "outputs": [
    {
     "output_type": "display_data",
     "data": {
      "text/html": [
       "<style scoped>\n",
       "  .table-result-container {\n",
       "    max-height: 300px;\n",
       "    overflow: auto;\n",
       "  }\n",
       "  table, th, td {\n",
       "    border: 1px solid black;\n",
       "    border-collapse: collapse;\n",
       "  }\n",
       "  th, td {\n",
       "    padding: 5px;\n",
       "  }\n",
       "  th {\n",
       "    text-align: left;\n",
       "  }\n",
       "</style><div class='table-result-container'><table class='table-result'><thead style='background-color: white'><tr><th>hora_do_dia</th><th>media_de_passageiros</th></tr></thead><tbody><tr><td>0</td><td>1.4274634212427746</td></tr><tr><td>1</td><td>1.4379867872044507</td></tr><tr><td>2</td><td>1.4552871886313288</td></tr><tr><td>3</td><td>1.452468956352008</td></tr><tr><td>4</td><td>1.4051493960584869</td></tr><tr><td>5</td><td>1.2842776281804693</td></tr><tr><td>6</td><td>1.2612818763889195</td></tr><tr><td>7</td><td>1.2820311563157494</td></tr><tr><td>8</td><td>1.2956814339935572</td></tr><tr><td>9</td><td>1.3120987899789809</td></tr><tr><td>10</td><td>1.3477023286109755</td></tr><tr><td>11</td><td>1.3622853111904207</td></tr><tr><td>12</td><td>1.3761627584677643</td></tr><tr><td>13</td><td>1.3851202315208733</td></tr><tr><td>14</td><td>1.3902559373987589</td></tr><tr><td>15</td><td>1.4018853930829884</td></tr><tr><td>16</td><td>1.399049997073913</td></tr><tr><td>17</td><td>1.389985983769741</td></tr><tr><td>18</td><td>1.3836252347324156</td></tr><tr><td>19</td><td>1.39223621664109</td></tr><tr><td>20</td><td>1.4012591992082628</td></tr><tr><td>21</td><td>1.4199412885615696</td></tr><tr><td>22</td><td>1.4279483523094405</td></tr><tr><td>23</td><td>1.4225086585496483</td></tr></tbody></table></div>"
      ]
     },
     "metadata": {
      "application/vnd.databricks.v1+output": {
       "addedWidgets": {},
       "aggData": [],
       "aggError": "",
       "aggOverflow": false,
       "aggSchema": [],
       "aggSeriesLimitReached": false,
       "aggType": "",
       "arguments": {},
       "columnCustomDisplayInfos": {},
       "data": [
        [
         0,
         1.4274634212427746
        ],
        [
         1,
         1.4379867872044507
        ],
        [
         2,
         1.4552871886313288
        ],
        [
         3,
         1.452468956352008
        ],
        [
         4,
         1.4051493960584869
        ],
        [
         5,
         1.2842776281804693
        ],
        [
         6,
         1.2612818763889195
        ],
        [
         7,
         1.2820311563157494
        ],
        [
         8,
         1.2956814339935572
        ],
        [
         9,
         1.3120987899789809
        ],
        [
         10,
         1.3477023286109755
        ],
        [
         11,
         1.3622853111904207
        ],
        [
         12,
         1.3761627584677643
        ],
        [
         13,
         1.3851202315208733
        ],
        [
         14,
         1.3902559373987589
        ],
        [
         15,
         1.4018853930829884
        ],
        [
         16,
         1.399049997073913
        ],
        [
         17,
         1.389985983769741
        ],
        [
         18,
         1.3836252347324156
        ],
        [
         19,
         1.39223621664109
        ],
        [
         20,
         1.4012591992082628
        ],
        [
         21,
         1.4199412885615696
        ],
        [
         22,
         1.4279483523094405
        ],
        [
         23,
         1.4225086585496483
        ]
       ],
       "datasetInfos": [],
       "dbfsResultPath": null,
       "isJsonSchema": true,
       "metadata": {},
       "overflow": false,
       "plotOptions": {
        "customPlotOptions": {},
        "displayType": "table",
        "pivotAggregation": null,
        "pivotColumns": null,
        "xColumns": null,
        "yColumns": null
       },
       "removedWidgets": [],
       "schema": [
        {
         "metadata": "{}",
         "name": "hora_do_dia",
         "type": "\"integer\""
        },
        {
         "metadata": "{}",
         "name": "media_de_passageiros",
         "type": "\"double\""
        }
       ],
       "type": "table"
      }
     },
     "output_type": "display_data"
    }
   ],
   "source": [
    "%sql\n",
    "-- Pergunta 2: Qual a média de passageiros (passenger_count) por cada hora do dia no mês de maio? \n",
    "SELECT\n",
    "  HOUR(pickup_datetime) AS hora_do_dia,\n",
    "  AVG(passenger_count) AS media_de_passageiros\n",
    "FROM\n",
    "  ifood_challenge.yellow_taxi_trips\n",
    "WHERE\n",
    "  MONTH(pickup_datetime) = 5 AND YEAR(pickup_datetime) = 2023 -- Filtra para Maio de 2023\n",
    "GROUP BY\n",
    "  hora_do_dia\n",
    "ORDER BY\n",
    "  hora_do_dia;"
   ]
  },
  {
   "cell_type": "markdown",
   "metadata": {
    "application/vnd.databricks.v1+cell": {
     "cellMetadata": {
      "byteLimit": 2048000,
      "rowLimit": 10000
     },
     "inputWidgets": {},
     "nuid": "8e02b6ca-d035-4eb2-9e4f-ad24ebdfa000",
     "showTitle": false,
     "tableResultSettingsMap": {},
     "title": ""
    }
   },
   "source": [
    "Análise do Resultado: O resultado nos permite identificar os horários de pico na demanda de passageiros. Vemos como a média de passageiros por corrida flutua ao longo do dia, fornecendo uma informação valiosa para o planejamento e otimização da distribuição da frota de táxis."
   ]
  }
 ],
 "metadata": {
  "application/vnd.databricks.v1+notebook": {
   "computePreferences": null,
   "dashboards": [],
   "environmentMetadata": {
    "base_environment": "",
    "environment_version": "2"
   },
   "inputWidgetPreferences": null,
   "language": "python",
   "notebookMetadata": {
    "mostRecentlyExecutedCommandWithImplicitDF": {
     "commandId": -1,
     "dataframes": [
      "_sqldf"
     ]
    },
    "pythonIndentUnit": 4
   },
   "notebookName": "analises",
   "widgets": {}
  },
  "language_info": {
   "name": "python"
  }
 },
 "nbformat": 4,
 "nbformat_minor": 0
}