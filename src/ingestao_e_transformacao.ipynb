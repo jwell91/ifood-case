{
 "cells": [
  {
   "cell_type": "code",
   "execution_count": 0,
   "metadata": {
    "application/vnd.databricks.v1+cell": {
     "cellMetadata": {
      "byteLimit": 2048000,
      "implicitDf": true,
      "rowLimit": 10000
     },
     "inputWidgets": {},
     "nuid": "75c2a0a3-78bb-4fc5-b327-cb4d54c25145",
     "showTitle": false,
     "tableResultSettingsMap": {},
     "title": ""
    }
   },
   "outputs": [
    {
     "output_type": "stream",
     "name": "stdout",
     "output_type": "stream",
     "text": [
      "\uD83D\uDCC2 Lendo dbfs:/Volumes/workspace/default/ifood_landing_zone/yellow_tripdata_2023-01.parquet...\n\uD83D\uDCC2 Lendo dbfs:/Volumes/workspace/default/ifood_landing_zone/yellow_tripdata_2023-02.parquet...\n\uD83D\uDCC2 Lendo dbfs:/Volumes/workspace/default/ifood_landing_zone/yellow_tripdata_2023-03.parquet...\n\uD83D\uDCC2 Lendo dbfs:/Volumes/workspace/default/ifood_landing_zone/yellow_tripdata_2023-04.parquet...\n\uD83D\uDCC2 Lendo dbfs:/Volumes/workspace/default/ifood_landing_zone/yellow_tripdata_2023-05.parquet...\n⚙️ Criando schema (se não existir)...\n\uD83D\uDCBE Salvando dados como tabela GERENCIADA...\n✅ Tabela gerenciada 'ifood_challenge.yellow_taxi_trips' criada com sucesso!\n\n\uD83D\uDCCA Verificando os dados da tabela criada...\n"
     ]
    },
    {
     "output_type": "display_data",
     "data": {
      "text/html": [
       "<style scoped>\n",
       "  .table-result-container {\n",
       "    max-height: 300px;\n",
       "    overflow: auto;\n",
       "  }\n",
       "  table, th, td {\n",
       "    border: 1px solid black;\n",
       "    border-collapse: collapse;\n",
       "  }\n",
       "  th, td {\n",
       "    padding: 5px;\n",
       "  }\n",
       "  th {\n",
       "    text-align: left;\n",
       "  }\n",
       "</style><div class='table-result-container'><table class='table-result'><thead style='background-color: white'><tr><th>vendor_id</th><th>pickup_datetime</th><th>dropoff_datetime</th><th>passenger_count</th><th>total_amount</th></tr></thead><tbody><tr><td>1</td><td>2023-02-01T00:32:53.000</td><td>2023-02-01T00:34:34.000</td><td>2</td><td>9.4</td></tr><tr><td>2</td><td>2023-02-01T00:35:16.000</td><td>2023-02-01T00:35:30.000</td><td>1</td><td>5.5</td></tr><tr><td>2</td><td>2023-02-01T00:12:28.000</td><td>2023-02-01T00:25:46.000</td><td>1</td><td>25.3</td></tr><tr><td>1</td><td>2023-02-01T00:52:40.000</td><td>2023-02-01T01:07:18.000</td><td>1</td><td>32.25</td></tr><tr><td>1</td><td>2023-02-01T00:12:39.000</td><td>2023-02-01T00:40:36.000</td><td>1</td><td>50.0</td></tr><tr><td>1</td><td>2023-02-01T00:56:53.000</td><td>2023-02-01T01:00:37.000</td><td>1</td><td>14.64</td></tr><tr><td>2</td><td>2023-02-01T00:20:40.000</td><td>2023-02-01T00:33:56.000</td><td>1</td><td>44.12</td></tr><tr><td>2</td><td>2023-02-01T00:33:51.000</td><td>2023-02-01T00:37:34.000</td><td>1</td><td>12.42</td></tr><tr><td>2</td><td>2023-02-01T01:00:45.000</td><td>2023-02-01T01:06:00.000</td><td>1</td><td>14.64</td></tr><tr><td>2</td><td>2023-02-01T00:10:48.000</td><td>2023-02-01T00:18:09.000</td><td>1</td><td>16.0</td></tr></tbody></table></div>"
      ]
     },
     "metadata": {
      "application/vnd.databricks.v1+output": {
       "addedWidgets": {},
       "aggData": [],
       "aggError": "",
       "aggOverflow": false,
       "aggSchema": [],
       "aggSeriesLimitReached": false,
       "aggType": "",
       "arguments": {},
       "columnCustomDisplayInfos": {},
       "data": [
        [
         1,
         "2023-02-01T00:32:53.000",
         "2023-02-01T00:34:34.000",
         2,
         9.4
        ],
        [
         2,
         "2023-02-01T00:35:16.000",
         "2023-02-01T00:35:30.000",
         1,
         5.5
        ],
        [
         2,
         "2023-02-01T00:12:28.000",
         "2023-02-01T00:25:46.000",
         1,
         25.3
        ],
        [
         1,
         "2023-02-01T00:52:40.000",
         "2023-02-01T01:07:18.000",
         1,
         32.25
        ],
        [
         1,
         "2023-02-01T00:12:39.000",
         "2023-02-01T00:40:36.000",
         1,
         50.0
        ],
        [
         1,
         "2023-02-01T00:56:53.000",
         "2023-02-01T01:00:37.000",
         1,
         14.64
        ],
        [
         2,
         "2023-02-01T00:20:40.000",
         "2023-02-01T00:33:56.000",
         1,
         44.12
        ],
        [
         2,
         "2023-02-01T00:33:51.000",
         "2023-02-01T00:37:34.000",
         1,
         12.42
        ],
        [
         2,
         "2023-02-01T01:00:45.000",
         "2023-02-01T01:06:00.000",
         1,
         14.64
        ],
        [
         2,
         "2023-02-01T00:10:48.000",
         "2023-02-01T00:18:09.000",
         1,
         16.0
        ]
       ],
       "datasetInfos": [],
       "dbfsResultPath": null,
       "isJsonSchema": true,
       "metadata": {},
       "overflow": false,
       "plotOptions": {
        "customPlotOptions": {},
        "displayType": "table",
        "pivotAggregation": null,
        "pivotColumns": null,
        "xColumns": null,
        "yColumns": null
       },
       "removedWidgets": [],
       "schema": [
        {
         "metadata": "{}",
         "name": "vendor_id",
         "type": "\"integer\""
        },
        {
         "metadata": "{}",
         "name": "pickup_datetime",
         "type": "\"timestamp_ntz\""
        },
        {
         "metadata": "{}",
         "name": "dropoff_datetime",
         "type": "\"timestamp_ntz\""
        },
        {
         "metadata": "{}",
         "name": "passenger_count",
         "type": "\"integer\""
        },
        {
         "metadata": "{}",
         "name": "total_amount",
         "type": "\"double\""
        }
       ],
       "type": "table"
      }
     },
     "output_type": "display_data"
    }
   ],
   "source": [
    "from pyspark.sql.functions import col\n",
    "from pyspark.sql.types import IntegerType, DoubleType\n",
    "\n",
    "# Define o caminho para a zona de landing\n",
    "landing_path = \"/Volumes/workspace/default/ifood_landing_zone/\"\n",
    "# O caminho de consumo.\n",
    "consumption_path = \"/Volumes/workspace/default/ifood_consumption_zone/\"\n",
    "\n",
    "# --- 1. Leitura e Processamento ---\n",
    "files = [f.path for f in dbutils.fs.ls(landing_path) if f.path.endswith(\".parquet\")]\n",
    "final_df = None\n",
    "for file in files:\n",
    "    print(f\"\uD83D\uDCC2 Lendo {file}...\")\n",
    "    df = spark.read.format(\"parquet\").load(file)\n",
    "    for old_name in df.columns:\n",
    "        df = df.withColumnRenamed(old_name, old_name.lower())\n",
    "    df = df.select(\n",
    "        col(\"vendorid\").cast(IntegerType()).alias(\"vendor_id\"),\n",
    "        col(\"tpep_pickup_datetime\").alias(\"pickup_datetime\"),\n",
    "        col(\"tpep_dropoff_datetime\").alias(\"dropoff_datetime\"),\n",
    "        col(\"passenger_count\").cast(IntegerType()).alias(\"passenger_count\"),\n",
    "        col(\"total_amount\").cast(DoubleType()).alias(\"total_amount\")\n",
    "    )\n",
    "    if final_df is None:\n",
    "        final_df = df\n",
    "    else:\n",
    "        final_df = final_df.unionByName(df)\n",
    "\n",
    "cleaned_df = final_df.filter(\n",
    "    (col(\"passenger_count\") > 0) &\n",
    "    (col(\"total_amount\") >= 0) &\n",
    "    col(\"vendor_id\").isNotNull()\n",
    ")\n",
    "\n",
    "# --- 2. Criação do Schema e da Tabela (Maneira Correta) ---\n",
    "\n",
    "# Garanta que o catálogo e o schema existam.\n",
    "# O schema usará a localização padrão do catálogo.\n",
    "print(\"⚙️ Criando schema (se não existir)...\")\n",
    "spark.sql(\"CREATE SCHEMA IF NOT EXISTS ifood_challenge\")\n",
    "\n",
    "# Salve o DataFrame como uma TABELA GERENCIADA.\n",
    "# O Unity Catalog vai gerenciar automaticamente onde os arquivos são salvos.\n",
    "print(\"\uD83D\uDCBE Salvando dados como tabela GERENCIADA...\")\n",
    "cleaned_df.write.format(\"delta\") \\\n",
    "    .mode(\"overwrite\") \\\n",
    "    .option(\"overwriteSchema\", \"true\") \\\n",
    "    .saveAsTable(\"ifood_challenge.yellow_taxi_trips\")\n",
    "\n",
    "print(\"✅ Tabela gerenciada 'ifood_challenge.yellow_taxi_trips' criada com sucesso!\")\n",
    "\n",
    "\n",
    "# --- 3. Verificação ---\n",
    "print(\"\\n\uD83D\uDCCA Verificando os dados da tabela criada...\")\n",
    "display(spark.sql(\"SELECT * FROM ifood_challenge.yellow_taxi_trips LIMIT 10\"))\n"
   ]
  }
 ],
 "metadata": {
  "application/vnd.databricks.v1+notebook": {
   "computePreferences": null,
   "dashboards": [],
   "environmentMetadata": {
    "base_environment": "",
    "environment_version": "2"
   },
   "inputWidgetPreferences": null,
   "language": "python",
   "notebookMetadata": {
    "mostRecentlyExecutedCommandWithImplicitDF": {
     "commandId": 8858111818216843,
     "dataframes": [
      "_sqldf"
     ]
    },
    "pythonIndentUnit": 4
   },
   "notebookName": "ingestao_e_transformacao",
   "widgets": {}
  },
  "language_info": {
   "name": "python"
  }
 },
 "nbformat": 4,
 "nbformat_minor": 0
}